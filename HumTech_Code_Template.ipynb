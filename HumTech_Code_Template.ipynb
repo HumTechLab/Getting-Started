{
 "cells": [
  {
   "cell_type": "markdown",
   "metadata": {},
   "source": [
    "# <font color = orange>  Script Title Example </font>\n",
    "__ <font color = orange> Author(s): </font>__ Names"
   ]
  },
  {
   "cell_type": "markdown",
   "metadata": {},
   "source": [
    "## Script Information\n",
    "__Purpose:__ \n",
    "* Describe what this code is used for \n",
    "* Example: This script uses keywords to identify which roads and bridges have been wiped out by a Flood in Bangladesh\n",
    "\n",
    "__Adaptability:__ \n",
    "* Describte how this code can be reused/potentially adapted\n",
    "* Example: Change the keywords to search through Tweets for some other information, such as people who are stranded and requesting evacuation. \n",
    "\n",
    "__ Requirements:__ \n",
    "* Pandas, Numpy, Seaborn\n",
    "\n",
    "__ Other relevant information:__ \n",
    "* Information to help the user understand your code \n",
    "* Also include comments and Markdown in the body of the script "
   ]
  },
  {
   "cell_type": "code",
   "execution_count": null,
   "metadata": {
    "collapsed": true
   },
   "outputs": [],
   "source": []
  }
 ],
 "metadata": {
  "kernelspec": {
   "display_name": "Python [conda root]",
   "language": "python",
   "name": "conda-root-py"
  },
  "language_info": {
   "codemirror_mode": {
    "name": "ipython",
    "version": 3
   },
   "file_extension": ".py",
   "mimetype": "text/x-python",
   "name": "python",
   "nbconvert_exporter": "python",
   "pygments_lexer": "ipython3",
   "version": "3.6.1"
  }
 },
 "nbformat": 4,
 "nbformat_minor": 2
}
